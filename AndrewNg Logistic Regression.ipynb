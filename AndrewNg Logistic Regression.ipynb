{
 "cells": [
  {
   "cell_type": "markdown",
   "metadata": {},
   "source": [
    "Logistic Regression: Andrew Ng Machine Learning (from Octave to Jupyter Python notebook) ex2"
   ]
  },
  {
   "cell_type": "code",
   "execution_count": 7,
   "metadata": {
    "collapsed": true
   },
   "outputs": [],
   "source": [
    "import pandas as pd\n",
    "import os\n",
    "os.chdir('/Users/Alison/Desktop/BigData_Analytics/Andrew Ng/machine-learning-ex2/ex2')\n",
    "# Load Data - The first two columns contains the X values and the third column contains the label (y).\n",
    "df = pd.read_csv('ex2data1.txt', header=None)\n",
    "X = df.iloc[:,0:2]\n",
    "y = df.iloc[:,2]"
   ]
  },
  {
   "cell_type": "code",
   "execution_count": 8,
   "metadata": {},
   "outputs": [
    {
     "name": "stdout",
     "output_type": "stream",
     "text": [
      "Plotting data with + indicating (y = 1) examples and o indicating (y = 0) examples.\n",
      "\n"
     ]
    },
    {
     "data": {
      "image/png": "[encoded data removed]",
      "text/plain": [
       "<matplotlib.figure.Figure at 0x1147f9390>"
      ]
     },
     "metadata": {},
     "output_type": "display_data"
    }
   ],
   "source": [
    "from matplotlib import pyplot as plt\n",
    "# First plot the data to understand the problem we are working with.\n",
    "print('Plotting data with + indicating (y = 1) examples and o indicating (y = 0) examples.\\n')\n",
    "X0 = df.loc[df[2] == 0, [0,1]]\n",
    "X1 = df.loc[df[2] == 1, [0,1]]\n",
    "plt.scatter(X0[0], X0[1], marker='o', c='b', label='Not admitted')\n",
    "plt.scatter(X1[0], X1[1], marker='+', c='r', label='Admitted')\n",
    "plt.xlabel('Exam 1 score')\n",
    "plt.ylabel('Exam 2 score')\n",
    "plt.legend()\n",
    "plt.show()"
   ]
  },
  {
   "cell_type": "code",
   "execution_count": 9,
   "metadata": {
    "collapsed": true
   },
   "outputs": [],
   "source": [
    "# Setup the data matrix appropriately, and add ones for the intercept term\n",
    "m, n = X.shape\n",
    "# Add intercept term to x and X_test\n",
    "X.insert(loc=0, column='1s', value=1)"
   ]
  },
  {
   "cell_type": "code",
   "execution_count": 10,
   "metadata": {},
   "outputs": [
    {
     "name": "stdout",
     "output_type": "stream",
     "text": [
      "Cost at initial theta (zeros): 0.69314718056\n",
      "Expected cost (approx): 0.693\n",
      "\n",
      "Gradient at initial theta (zeros): \n",
      "\n",
      "[[ -0.1       ]\n",
      " [-12.00921659]\n",
      " [-11.26284221]]\n",
      "Expected gradients (approx):\n",
      " -0.1000\n",
      " -12.0092\n",
      " -11.2628\n",
      "\n",
      "\n",
      "Cost at test theta: 0.218330193827\n",
      "Expected cost (approx): 0.218\n",
      "\n",
      "Gradient at test theta: \n",
      "\n",
      "[[ 0.04290299]\n",
      " [ 2.56623412]\n",
      " [ 2.64679737]]\n",
      "Expected gradients (approx):\n",
      " 0.043\n",
      " 2.566\n",
      " 2.647\n",
      "\n"
     ]
    }
   ],
   "source": [
    "import numpy as np\n",
    "# Initialize fitting parameters\n",
    "initial_theta = pd.DataFrame(np.zeros((n+1, 1)))\n",
    "\n",
    "def sigmoid(z):\n",
    "    #SIGMOID Compute sigmoid function\n",
    "    #g = SIGMOID(z) computes the sigmoid of z.\n",
    "    g=1/(1+np.exp(-z))\n",
    "    return g\n",
    "\n",
    "def costFunction(theta, X, y):\n",
    "    #COSTFUNCTION Compute cost for logistic regression\n",
    "    #J = COSTFUNCTION(theta, X, y) computes the cost of using theta as the\n",
    "    #parameter for logistic regression \n",
    "    m = y.shape[0] #number of training examples\n",
    "    h=sigmoid(np.dot(theta.T,X.T))\n",
    "    unregularized_cost = (1/m)*(np.dot(-y.T,np.log(h).T)-np.dot((1-y).T,np.log(1-h).T))\n",
    "    J = unregularized_cost\n",
    "    return J\n",
    "\n",
    "def Grad(theta, X, y):\n",
    "    #GRAD Compute gradient for logistic regression\n",
    "    #grad = GRAD(theta, X, y) computes the gradient using theta as the\n",
    "    #parameter for logistic regression\n",
    "    m = y.shape[0] #number of training examples\n",
    "    h=sigmoid(np.dot(theta.T,X.T))\n",
    "    grad = (1/m)*np.dot(X.T,(h.T-y.to_frame()))\n",
    "    return grad\n",
    "\n",
    "# Compute and display initial cost and gradient\n",
    "cost = costFunction(initial_theta, X, y)\n",
    "grad = Grad(initial_theta, X, y)\n",
    "print('Cost at initial theta (zeros):', cost[0])\n",
    "print('Expected cost (approx): 0.693\\n')\n",
    "print('Gradient at initial theta (zeros): \\n')\n",
    "print(grad)\n",
    "print('Expected gradients (approx):\\n -0.1000\\n -12.0092\\n -11.2628\\n')\n",
    "\n",
    "# Compute and display cost and gradient with non-zero theta\n",
    "test_theta = pd.DataFrame([-24, 0.2, 0.2])\n",
    "cost = costFunction(test_theta, X, y)\n",
    "grad = Grad(test_theta, X, y)\n",
    "print('\\nCost at test theta:', cost[0])\n",
    "print('Expected cost (approx): 0.218\\n')\n",
    "print('Gradient at test theta: \\n')\n",
    "print(grad)\n",
    "print('Expected gradients (approx):\\n 0.043\\n 2.566\\n 2.647\\n')"
   ]
  },
  {
   "cell_type": "code",
   "execution_count": 11,
   "metadata": {},
   "outputs": [
    {
     "name": "stdout",
     "output_type": "stream",
     "text": [
      "Optimization terminated successfully.\n",
      "         Current function value: 0.203498\n",
      "         Iterations: 157\n",
      "         Function evaluations: 287\n",
      "Cost at theta found by fmin: 0.20349770159\n",
      "Expected cost (approx): 0.203\n",
      "theta: [-25.16130062   0.20623142   0.20147143]\n",
      "Expected theta (approx): -25.161 0.206 0.201\n"
     ]
    }
   ],
   "source": [
    "#Use a built-in function to find the optimal parameters theta.\n",
    "\n",
    "from scipy.optimize import fmin, fmin_bfgs\n",
    "myargs=(X, y)\n",
    "theta = fmin(costFunction, x0=initial_theta, args=myargs)\n",
    "\n",
    "print('Cost at theta found by fmin:', costFunction(theta,X,y))\n",
    "print('Expected cost (approx): 0.203')\n",
    "print('theta:', theta)\n",
    "print('Expected theta (approx): -25.161 0.206 0.201')\n"
   ]
  },
  {
   "cell_type": "code",
   "execution_count": 13,
   "metadata": {},
   "outputs": [
    {
     "name": "stdout",
     "output_type": "stream",
     "text": [
      "Plotting data with + indicating (y = 1) examples and o indicating (y = 0) examples.\n",
      "\n"
     ]
    },
    {
     "data": {
      "image/png": "[encoded data removed]",
      "text/plain": [
       "<matplotlib.figure.Figure at 0x1515bfe898>"
      ]
     },
     "metadata": {},
     "output_type": "display_data"
    }
   ],
   "source": [
    "print('Plotting data with + indicating (y = 1) examples and o indicating (y = 0) examples.\\n')\n",
    "plt.clf()\n",
    "X0 = df.loc[df[2] == 0, [0,1]]\n",
    "X1 = df.loc[df[2] == 1, [0,1]]\n",
    "plt.plot([0,-theta[0]/theta[2]],[-theta[0]/theta[1],0], label='Decision Boundary') #Decision Boundary\n",
    "plt.scatter(X0[0], X0[1], marker='o', c='b', label='Not admitted')\n",
    "plt.scatter(X1[0], X1[1], marker='+', c='r', label='Admitted')\n",
    "plt.scatter(45, 85, s=60, c='g', marker='v', label='(45, 85)')\n",
    "plt.xlabel('Exam 1 score')\n",
    "plt.ylabel('Exam 2 score')\n",
    "plt.xlim(20, 100)\n",
    "plt.ylim(20, 100)\n",
    "plt.legend()\n",
    "plt.show()"
   ]
  },
  {
   "cell_type": "code",
   "execution_count": 7,
   "metadata": {},
   "outputs": [
    {
     "name": "stdout",
     "output_type": "stream",
     "text": [
      "For a student with scores 45 and 85, we predict an admission probability of 0.776290746405\n",
      "Expected value: 0.775 +/- 0.002\n"
     ]
    }
   ],
   "source": [
    "#Predict the outcomes on unseen data. \n",
    "#Predict the probability that a student with score 45 on exam 1 and score 85 on exam 2 will be admitted.\n",
    "s=pd.Series([1, 45, 85])\n",
    "prob = sigmoid(np.dot(s.T,theta))\n",
    "\n",
    "print('For a student with scores 45 and 85, we predict an admission probability of', prob);\n",
    "print('Expected value: 0.775 +/- 0.002');"
   ]
  },
  {
   "cell_type": "code",
   "execution_count": 9,
   "metadata": {},
   "outputs": [
    {
     "name": "stdout",
     "output_type": "stream",
     "text": [
      "89.0\n",
      "Expected accuracy (approx): 89.0\n"
     ]
    }
   ],
   "source": [
    "#Compute accuracy on our training set\n",
    "def predict (theta, X):\n",
    "    #PREDICT Predict whether the label is 0 or 1 using learned logistic regression parameters theta\n",
    "    #p = PREDICT(theta, X) computes the predictions for X using a threshold at 0.5 \n",
    "    #(i.e., if sigmoid(theta'*x) >= 0.5, predict 1)\n",
    "    m = y.shape[0] #number of training examples\n",
    "    p = sigmoid(np.dot(X,theta)) >= 0.5\n",
    "    return p*1\n",
    "\n",
    "p = predict(theta, X)\n",
    "acc = sum((p == y)*1)/len(p) * 100\n",
    "print (acc)\n",
    "print('Expected accuracy (approx): 89.0')"
   ]
  },
  {
   "cell_type": "code",
   "execution_count": null,
   "metadata": {
    "collapsed": true
   },
   "outputs": [],
   "source": []
  }
 ],
 "metadata": {
  "kernelspec": {
   "display_name": "Python 3",
   "language": "python",
   "name": "python3"
  },
  "language_info": {
   "codemirror_mode": {
    "name": "ipython",
    "version": 3
   },
   "file_extension": ".py",
   "mimetype": "text/x-python",
   "name": "python",
   "nbconvert_exporter": "python",
   "pygments_lexer": "ipython3",
   "version": "3.6.4"
  }
 },
 "nbformat": 4,
 "nbformat_minor": 2
}
